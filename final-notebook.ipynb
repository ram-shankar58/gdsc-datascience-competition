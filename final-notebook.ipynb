{
 "cells": [
  {
   "cell_type": "code",
   "execution_count": 1,
   "id": "ad236874",
   "metadata": {
    "_cell_guid": "b1076dfc-b9ad-4769-8c92-a6c4dae69d19",
    "_uuid": "8f2839f25d086af736a60e9eeb907d3b93b6e0e5",
    "execution": {
     "iopub.execute_input": "2024-11-01T14:03:56.677273Z",
     "iopub.status.busy": "2024-11-01T14:03:56.676841Z",
     "iopub.status.idle": "2024-11-01T14:03:57.874391Z",
     "shell.execute_reply": "2024-11-01T14:03:57.872919Z"
    },
    "papermill": {
     "duration": 1.204983,
     "end_time": "2024-11-01T14:03:57.876957",
     "exception": false,
     "start_time": "2024-11-01T14:03:56.671974",
     "status": "completed"
    },
    "tags": []
   },
   "outputs": [
    {
     "name": "stdout",
     "output_type": "stream",
     "text": [
      "/kaggle/input/hot-n-cold/dataset/sample_submission.csv\n",
      "/kaggle/input/hot-n-cold/dataset/valid/dataset_1.csv\n",
      "/kaggle/input/hot-n-cold/dataset/valid/dataset_4.csv\n",
      "/kaggle/input/hot-n-cold/dataset/valid/dataset_2.csv\n",
      "/kaggle/input/hot-n-cold/dataset/valid/dataset_5.csv\n",
      "/kaggle/input/hot-n-cold/dataset/valid/dataset_8.csv\n",
      "/kaggle/input/hot-n-cold/dataset/valid/dataset_9.csv\n",
      "/kaggle/input/hot-n-cold/dataset/valid/dataset_3.csv\n",
      "/kaggle/input/hot-n-cold/dataset/valid/dataset_0.csv\n",
      "/kaggle/input/hot-n-cold/dataset/valid/dataset_6.csv\n",
      "/kaggle/input/hot-n-cold/dataset/valid/dataset_7.csv\n",
      "/kaggle/input/hot-n-cold/dataset/test/dataset_0.csv\n",
      "/kaggle/input/hot-n-cold/dataset/train/dataset_1.csv\n",
      "/kaggle/input/hot-n-cold/dataset/train/dataset_4.csv\n",
      "/kaggle/input/hot-n-cold/dataset/train/dataset_19.csv\n",
      "/kaggle/input/hot-n-cold/dataset/train/dataset_10.csv\n",
      "/kaggle/input/hot-n-cold/dataset/train/dataset_18.csv\n",
      "/kaggle/input/hot-n-cold/dataset/train/dataset_2.csv\n",
      "/kaggle/input/hot-n-cold/dataset/train/dataset_5.csv\n",
      "/kaggle/input/hot-n-cold/dataset/train/dataset_24.csv\n",
      "/kaggle/input/hot-n-cold/dataset/train/dataset_8.csv\n",
      "/kaggle/input/hot-n-cold/dataset/train/dataset_20.csv\n",
      "/kaggle/input/hot-n-cold/dataset/train/dataset_21.csv\n",
      "/kaggle/input/hot-n-cold/dataset/train/dataset_13.csv\n",
      "/kaggle/input/hot-n-cold/dataset/train/dataset_14.csv\n",
      "/kaggle/input/hot-n-cold/dataset/train/dataset_9.csv\n",
      "/kaggle/input/hot-n-cold/dataset/train/dataset_16.csv\n",
      "/kaggle/input/hot-n-cold/dataset/train/dataset_3.csv\n",
      "/kaggle/input/hot-n-cold/dataset/train/dataset_0.csv\n",
      "/kaggle/input/hot-n-cold/dataset/train/dataset_23.csv\n",
      "/kaggle/input/hot-n-cold/dataset/train/dataset_11.csv\n",
      "/kaggle/input/hot-n-cold/dataset/train/dataset_12.csv\n",
      "/kaggle/input/hot-n-cold/dataset/train/dataset_17.csv\n",
      "/kaggle/input/hot-n-cold/dataset/train/dataset_22.csv\n",
      "/kaggle/input/hot-n-cold/dataset/train/dataset_6.csv\n",
      "/kaggle/input/hot-n-cold/dataset/train/dataset_7.csv\n",
      "/kaggle/input/hot-n-cold/dataset/train/dataset_15.csv\n"
     ]
    }
   ],
   "source": [
    "# This Python 3 environment comes with many helpful analytics libraries installed\n",
    "# It is defined by the kaggle/python Docker image: https://github.com/kaggle/docker-python\n",
    "# For example, here's several helpful packages to load\n",
    "\n",
    "import numpy as np # linear algebra\n",
    "import pandas as pd # data processing, CSV file I/O (e.g. pd.read_csv)\n",
    "\n",
    "# Input data files are available in the read-only \"../input/\" directory\n",
    "# For example, running this (by clicking run or pressing Shift+Enter) will list all files under the input directory\n",
    "\n",
    "import os\n",
    "for dirname, _, filenames in os.walk('/kaggle/input'):\n",
    "    for filename in filenames:\n",
    "        print(os.path.join(dirname, filename))\n",
    "\n",
    "# You can write up to 20GB to the current directory (/kaggle/working/) that gets preserved as output when you create a version using \"Save & Run All\" \n",
    "# You can also write temporary files to /kaggle/temp/, but they won't be saved outside of the current session"
   ]
  },
  {
   "cell_type": "code",
   "execution_count": 2,
   "id": "efc52c7d",
   "metadata": {
    "execution": {
     "iopub.execute_input": "2024-11-01T14:03:57.884803Z",
     "iopub.status.busy": "2024-11-01T14:03:57.884217Z",
     "iopub.status.idle": "2024-11-01T14:04:16.274755Z",
     "shell.execute_reply": "2024-11-01T14:04:16.273551Z"
    },
    "papermill": {
     "duration": 18.397454,
     "end_time": "2024-11-01T14:04:16.277606",
     "exception": false,
     "start_time": "2024-11-01T14:03:57.880152",
     "status": "completed"
    },
    "tags": []
   },
   "outputs": [],
   "source": [
    "import pandas as pd\n",
    "import numpy as np\n",
    "import glob\n",
    "from sklearn.preprocessing import StandardScaler\n",
    "from sklearn.model_selection import train_test_split\n",
    "from sklearn.metrics import mean_squared_error\n",
    "import tensorflow as tf\n",
    "from tensorflow.keras.models import Sequential\n",
    "from tensorflow.keras.layers import Dense, BatchNormalization, Dropout\n",
    "\n",
    "\n"
   ]
  },
  {
   "cell_type": "code",
   "execution_count": 3,
   "id": "18c8b0b8",
   "metadata": {
    "execution": {
     "iopub.execute_input": "2024-11-01T14:04:16.285505Z",
     "iopub.status.busy": "2024-11-01T14:04:16.284859Z",
     "iopub.status.idle": "2024-11-01T14:04:20.661817Z",
     "shell.execute_reply": "2024-11-01T14:04:20.660566Z"
    },
    "papermill": {
     "duration": 4.383794,
     "end_time": "2024-11-01T14:04:20.664490",
     "exception": false,
     "start_time": "2024-11-01T14:04:16.280696",
     "status": "completed"
    },
    "tags": []
   },
   "outputs": [],
   "source": [
    "train_files = glob.glob('/kaggle/input/hot-n-cold/dataset/train/*.csv')\n",
    "train_data = pd.concat((pd.read_csv(f) for f in train_files), ignore_index=True)\n",
    "\n",
    "validation_files = glob.glob('/kaggle/input/hot-n-cold/dataset/valid/*.csv')\n",
    "validation_data = pd.concat((pd.read_csv(f) for f in validation_files), ignore_index=True)"
   ]
  },
  {
   "cell_type": "code",
   "execution_count": 4,
   "id": "8d15e297",
   "metadata": {
    "execution": {
     "iopub.execute_input": "2024-11-01T14:04:20.672195Z",
     "iopub.status.busy": "2024-11-01T14:04:20.671762Z",
     "iopub.status.idle": "2024-11-01T14:04:20.851209Z",
     "shell.execute_reply": "2024-11-01T14:04:20.849854Z"
    },
    "papermill": {
     "duration": 0.186504,
     "end_time": "2024-11-01T14:04:20.854109",
     "exception": false,
     "start_time": "2024-11-01T14:04:20.667605",
     "status": "completed"
    },
    "tags": []
   },
   "outputs": [],
   "source": [
    "X_train = train_data.iloc[:, 1:3].values\n",
    "y_train = train_data.iloc[:, 3:].values\n",
    "\n",
    "scaler_X = StandardScaler()\n",
    "X_train_scaled = scaler_X.fit_transform(X_train)\n",
    "\n",
    "scaler_y = StandardScaler()\n",
    "y_train_scaled = scaler_y.fit_transform(y_train)\n",
    "\n",
    "X_valid = validation_data.iloc[:, 1:3].values\n",
    "y_valid = validation_data.iloc[:, 3:].values\n",
    "X_valid_scaled = scaler_X.transform(X_valid)\n",
    "y_valid_scaled = scaler_y.transform(y_valid)"
   ]
  },
  {
   "cell_type": "code",
   "execution_count": 5,
   "id": "f22d2f64",
   "metadata": {
    "execution": {
     "iopub.execute_input": "2024-11-01T14:04:20.862659Z",
     "iopub.status.busy": "2024-11-01T14:04:20.861696Z",
     "iopub.status.idle": "2024-11-01T14:04:20.868738Z",
     "shell.execute_reply": "2024-11-01T14:04:20.867626Z"
    },
    "papermill": {
     "duration": 0.013698,
     "end_time": "2024-11-01T14:04:20.871235",
     "exception": false,
     "start_time": "2024-11-01T14:04:20.857537",
     "status": "completed"
    },
    "tags": []
   },
   "outputs": [],
   "source": [
    "def cnn(input_shape, output_shape):\n",
    "    model = Sequential([\n",
    "        Dense(512, activation='relu', input_shape=(input_shape,)),\n",
    "        BatchNormalization(),\n",
    "        Dropout(0.3),\n",
    "        Dense(256, activation='relu'),\n",
    "        BatchNormalization(),\n",
    "        Dropout(0.3),\n",
    "        Dense(128, activation='relu'),\n",
    "        BatchNormalization(),\n",
    "        Dropout(0.3),\n",
    "        Dense(output_shape)\n",
    "    ])\n",
    "    model.compile(optimizer='adam', loss='mse')\n",
    "    return model\n"
   ]
  },
  {
   "cell_type": "code",
   "execution_count": 6,
   "id": "a8f6505e",
   "metadata": {
    "execution": {
     "iopub.execute_input": "2024-11-01T14:04:20.878953Z",
     "iopub.status.busy": "2024-11-01T14:04:20.878513Z",
     "iopub.status.idle": "2024-11-01T14:05:36.949060Z",
     "shell.execute_reply": "2024-11-01T14:05:36.947873Z"
    },
    "papermill": {
     "duration": 76.077349,
     "end_time": "2024-11-01T14:05:36.951688",
     "exception": false,
     "start_time": "2024-11-01T14:04:20.874339",
     "status": "completed"
    },
    "tags": []
   },
   "outputs": [
    {
     "name": "stderr",
     "output_type": "stream",
     "text": [
      "/opt/conda/lib/python3.10/site-packages/keras/src/layers/core/dense.py:87: UserWarning: Do not pass an `input_shape`/`input_dim` argument to a layer. When using Sequential models, prefer using an `Input(shape)` object as the first layer in the model instead.\n",
      "  super().__init__(activity_regularizer=activity_regularizer, **kwargs)\n"
     ]
    },
    {
     "name": "stdout",
     "output_type": "stream",
     "text": [
      "Epoch 1/100\n",
      "\u001b[1m79/79\u001b[0m \u001b[32m━━━━━━━━━━━━━━━━━━━━\u001b[0m\u001b[37m\u001b[0m \u001b[1m4s\u001b[0m 12ms/step - loss: 0.9018 - val_loss: 0.9388\n",
      "Epoch 2/100\n",
      "\u001b[1m79/79\u001b[0m \u001b[32m━━━━━━━━━━━━━━━━━━━━\u001b[0m\u001b[37m\u001b[0m \u001b[1m1s\u001b[0m 9ms/step - loss: 0.7554 - val_loss: 0.9454\n",
      "Epoch 3/100\n",
      "\u001b[1m79/79\u001b[0m \u001b[32m━━━━━━━━━━━━━━━━━━━━\u001b[0m\u001b[37m\u001b[0m \u001b[1m1s\u001b[0m 9ms/step - loss: 0.7492 - val_loss: 0.9190\n",
      "Epoch 4/100\n",
      "\u001b[1m79/79\u001b[0m \u001b[32m━━━━━━━━━━━━━━━━━━━━\u001b[0m\u001b[37m\u001b[0m \u001b[1m1s\u001b[0m 9ms/step - loss: 0.7309 - val_loss: 0.8727\n",
      "Epoch 5/100\n",
      "\u001b[1m79/79\u001b[0m \u001b[32m━━━━━━━━━━━━━━━━━━━━\u001b[0m\u001b[37m\u001b[0m \u001b[1m1s\u001b[0m 9ms/step - loss: 0.7173 - val_loss: 0.8432\n",
      "Epoch 6/100\n",
      "\u001b[1m79/79\u001b[0m \u001b[32m━━━━━━━━━━━━━━━━━━━━\u001b[0m\u001b[37m\u001b[0m \u001b[1m1s\u001b[0m 9ms/step - loss: 0.7144 - val_loss: 0.7685\n",
      "Epoch 7/100\n",
      "\u001b[1m79/79\u001b[0m \u001b[32m━━━━━━━━━━━━━━━━━━━━\u001b[0m\u001b[37m\u001b[0m \u001b[1m1s\u001b[0m 9ms/step - loss: 0.7045 - val_loss: 0.7221\n",
      "Epoch 8/100\n",
      "\u001b[1m79/79\u001b[0m \u001b[32m━━━━━━━━━━━━━━━━━━━━\u001b[0m\u001b[37m\u001b[0m \u001b[1m1s\u001b[0m 9ms/step - loss: 0.7174 - val_loss: 0.6937\n",
      "Epoch 9/100\n",
      "\u001b[1m79/79\u001b[0m \u001b[32m━━━━━━━━━━━━━━━━━━━━\u001b[0m\u001b[37m\u001b[0m \u001b[1m1s\u001b[0m 9ms/step - loss: 0.6949 - val_loss: 0.6757\n",
      "Epoch 10/100\n",
      "\u001b[1m79/79\u001b[0m \u001b[32m━━━━━━━━━━━━━━━━━━━━\u001b[0m\u001b[37m\u001b[0m \u001b[1m1s\u001b[0m 8ms/step - loss: 0.7036 - val_loss: 0.6714\n",
      "Epoch 11/100\n",
      "\u001b[1m79/79\u001b[0m \u001b[32m━━━━━━━━━━━━━━━━━━━━\u001b[0m\u001b[37m\u001b[0m \u001b[1m1s\u001b[0m 9ms/step - loss: 0.7203 - val_loss: 0.6741\n",
      "Epoch 12/100\n",
      "\u001b[1m79/79\u001b[0m \u001b[32m━━━━━━━━━━━━━━━━━━━━\u001b[0m\u001b[37m\u001b[0m \u001b[1m1s\u001b[0m 9ms/step - loss: 0.7090 - val_loss: 0.6690\n",
      "Epoch 13/100\n",
      "\u001b[1m79/79\u001b[0m \u001b[32m━━━━━━━━━━━━━━━━━━━━\u001b[0m\u001b[37m\u001b[0m \u001b[1m1s\u001b[0m 9ms/step - loss: 0.7074 - val_loss: 0.6712\n",
      "Epoch 14/100\n",
      "\u001b[1m79/79\u001b[0m \u001b[32m━━━━━━━━━━━━━━━━━━━━\u001b[0m\u001b[37m\u001b[0m \u001b[1m1s\u001b[0m 9ms/step - loss: 0.7044 - val_loss: 0.6710\n",
      "Epoch 15/100\n",
      "\u001b[1m79/79\u001b[0m \u001b[32m━━━━━━━━━━━━━━━━━━━━\u001b[0m\u001b[37m\u001b[0m \u001b[1m1s\u001b[0m 8ms/step - loss: 0.7197 - val_loss: 0.6702\n",
      "Epoch 16/100\n",
      "\u001b[1m79/79\u001b[0m \u001b[32m━━━━━━━━━━━━━━━━━━━━\u001b[0m\u001b[37m\u001b[0m \u001b[1m1s\u001b[0m 9ms/step - loss: 0.7022 - val_loss: 0.6637\n",
      "Epoch 17/100\n",
      "\u001b[1m79/79\u001b[0m \u001b[32m━━━━━━━━━━━━━━━━━━━━\u001b[0m\u001b[37m\u001b[0m \u001b[1m1s\u001b[0m 9ms/step - loss: 0.6959 - val_loss: 0.6748\n",
      "Epoch 18/100\n",
      "\u001b[1m79/79\u001b[0m \u001b[32m━━━━━━━━━━━━━━━━━━━━\u001b[0m\u001b[37m\u001b[0m \u001b[1m1s\u001b[0m 9ms/step - loss: 0.7123 - val_loss: 0.6656\n",
      "Epoch 19/100\n",
      "\u001b[1m79/79\u001b[0m \u001b[32m━━━━━━━━━━━━━━━━━━━━\u001b[0m\u001b[37m\u001b[0m \u001b[1m1s\u001b[0m 9ms/step - loss: 0.7122 - val_loss: 0.6835\n",
      "Epoch 20/100\n",
      "\u001b[1m79/79\u001b[0m \u001b[32m━━━━━━━━━━━━━━━━━━━━\u001b[0m\u001b[37m\u001b[0m \u001b[1m1s\u001b[0m 9ms/step - loss: 0.6918 - val_loss: 0.6667\n",
      "Epoch 21/100\n",
      "\u001b[1m79/79\u001b[0m \u001b[32m━━━━━━━━━━━━━━━━━━━━\u001b[0m\u001b[37m\u001b[0m \u001b[1m1s\u001b[0m 9ms/step - loss: 0.6886 - val_loss: 0.6657\n",
      "Epoch 22/100\n",
      "\u001b[1m79/79\u001b[0m \u001b[32m━━━━━━━━━━━━━━━━━━━━\u001b[0m\u001b[37m\u001b[0m \u001b[1m1s\u001b[0m 9ms/step - loss: 0.7029 - val_loss: 0.6717\n",
      "Epoch 23/100\n",
      "\u001b[1m79/79\u001b[0m \u001b[32m━━━━━━━━━━━━━━━━━━━━\u001b[0m\u001b[37m\u001b[0m \u001b[1m1s\u001b[0m 9ms/step - loss: 0.7109 - val_loss: 0.6662\n",
      "Epoch 24/100\n",
      "\u001b[1m79/79\u001b[0m \u001b[32m━━━━━━━━━━━━━━━━━━━━\u001b[0m\u001b[37m\u001b[0m \u001b[1m1s\u001b[0m 9ms/step - loss: 0.6955 - val_loss: 0.6706\n",
      "Epoch 25/100\n",
      "\u001b[1m79/79\u001b[0m \u001b[32m━━━━━━━━━━━━━━━━━━━━\u001b[0m\u001b[37m\u001b[0m \u001b[1m1s\u001b[0m 9ms/step - loss: 0.7058 - val_loss: 0.6644\n",
      "Epoch 26/100\n",
      "\u001b[1m79/79\u001b[0m \u001b[32m━━━━━━━━━━━━━━━━━━━━\u001b[0m\u001b[37m\u001b[0m \u001b[1m1s\u001b[0m 9ms/step - loss: 0.6995 - val_loss: 0.6655\n",
      "Epoch 27/100\n",
      "\u001b[1m79/79\u001b[0m \u001b[32m━━━━━━━━━━━━━━━━━━━━\u001b[0m\u001b[37m\u001b[0m \u001b[1m1s\u001b[0m 9ms/step - loss: 0.7106 - val_loss: 0.6702\n",
      "Epoch 28/100\n",
      "\u001b[1m79/79\u001b[0m \u001b[32m━━━━━━━━━━━━━━━━━━━━\u001b[0m\u001b[37m\u001b[0m \u001b[1m1s\u001b[0m 9ms/step - loss: 0.7104 - val_loss: 0.6602\n",
      "Epoch 29/100\n",
      "\u001b[1m79/79\u001b[0m \u001b[32m━━━━━━━━━━━━━━━━━━━━\u001b[0m\u001b[37m\u001b[0m \u001b[1m1s\u001b[0m 9ms/step - loss: 0.7067 - val_loss: 0.6645\n",
      "Epoch 30/100\n",
      "\u001b[1m79/79\u001b[0m \u001b[32m━━━━━━━━━━━━━━━━━━━━\u001b[0m\u001b[37m\u001b[0m \u001b[1m1s\u001b[0m 10ms/step - loss: 0.7061 - val_loss: 0.6627\n",
      "Epoch 31/100\n",
      "\u001b[1m79/79\u001b[0m \u001b[32m━━━━━━━━━━━━━━━━━━━━\u001b[0m\u001b[37m\u001b[0m \u001b[1m1s\u001b[0m 10ms/step - loss: 0.7075 - val_loss: 0.6684\n",
      "Epoch 32/100\n",
      "\u001b[1m79/79\u001b[0m \u001b[32m━━━━━━━━━━━━━━━━━━━━\u001b[0m\u001b[37m\u001b[0m \u001b[1m1s\u001b[0m 9ms/step - loss: 0.7132 - val_loss: 0.6631\n",
      "Epoch 33/100\n",
      "\u001b[1m79/79\u001b[0m \u001b[32m━━━━━━━━━━━━━━━━━━━━\u001b[0m\u001b[37m\u001b[0m \u001b[1m1s\u001b[0m 9ms/step - loss: 0.6917 - val_loss: 0.6665\n",
      "Epoch 34/100\n",
      "\u001b[1m79/79\u001b[0m \u001b[32m━━━━━━━━━━━━━━━━━━━━\u001b[0m\u001b[37m\u001b[0m \u001b[1m1s\u001b[0m 9ms/step - loss: 0.7136 - val_loss: 0.6716\n",
      "Epoch 35/100\n",
      "\u001b[1m79/79\u001b[0m \u001b[32m━━━━━━━━━━━━━━━━━━━━\u001b[0m\u001b[37m\u001b[0m \u001b[1m1s\u001b[0m 9ms/step - loss: 0.7108 - val_loss: 0.6638\n",
      "Epoch 36/100\n",
      "\u001b[1m79/79\u001b[0m \u001b[32m━━━━━━━━━━━━━━━━━━━━\u001b[0m\u001b[37m\u001b[0m \u001b[1m1s\u001b[0m 9ms/step - loss: 0.7006 - val_loss: 0.6630\n",
      "Epoch 37/100\n",
      "\u001b[1m79/79\u001b[0m \u001b[32m━━━━━━━━━━━━━━━━━━━━\u001b[0m\u001b[37m\u001b[0m \u001b[1m1s\u001b[0m 9ms/step - loss: 0.7030 - val_loss: 0.6626\n",
      "Epoch 38/100\n",
      "\u001b[1m79/79\u001b[0m \u001b[32m━━━━━━━━━━━━━━━━━━━━\u001b[0m\u001b[37m\u001b[0m \u001b[1m1s\u001b[0m 9ms/step - loss: 0.7061 - val_loss: 0.6611\n",
      "Epoch 39/100\n",
      "\u001b[1m79/79\u001b[0m \u001b[32m━━━━━━━━━━━━━━━━━━━━\u001b[0m\u001b[37m\u001b[0m \u001b[1m1s\u001b[0m 9ms/step - loss: 0.6975 - val_loss: 0.6706\n",
      "Epoch 40/100\n",
      "\u001b[1m79/79\u001b[0m \u001b[32m━━━━━━━━━━━━━━━━━━━━\u001b[0m\u001b[37m\u001b[0m \u001b[1m1s\u001b[0m 9ms/step - loss: 0.6973 - val_loss: 0.6614\n",
      "Epoch 41/100\n",
      "\u001b[1m79/79\u001b[0m \u001b[32m━━━━━━━━━━━━━━━━━━━━\u001b[0m\u001b[37m\u001b[0m \u001b[1m1s\u001b[0m 9ms/step - loss: 0.6977 - val_loss: 0.6617\n",
      "Epoch 42/100\n",
      "\u001b[1m79/79\u001b[0m \u001b[32m━━━━━━━━━━━━━━━━━━━━\u001b[0m\u001b[37m\u001b[0m \u001b[1m1s\u001b[0m 8ms/step - loss: 0.7007 - val_loss: 0.6646\n",
      "Epoch 43/100\n",
      "\u001b[1m79/79\u001b[0m \u001b[32m━━━━━━━━━━━━━━━━━━━━\u001b[0m\u001b[37m\u001b[0m \u001b[1m1s\u001b[0m 9ms/step - loss: 0.7051 - val_loss: 0.6626\n",
      "Epoch 44/100\n",
      "\u001b[1m79/79\u001b[0m \u001b[32m━━━━━━━━━━━━━━━━━━━━\u001b[0m\u001b[37m\u001b[0m \u001b[1m1s\u001b[0m 9ms/step - loss: 0.6973 - val_loss: 0.6593\n",
      "Epoch 45/100\n",
      "\u001b[1m79/79\u001b[0m \u001b[32m━━━━━━━━━━━━━━━━━━━━\u001b[0m\u001b[37m\u001b[0m \u001b[1m1s\u001b[0m 9ms/step - loss: 0.7164 - val_loss: 0.6614\n",
      "Epoch 46/100\n",
      "\u001b[1m79/79\u001b[0m \u001b[32m━━━━━━━━━━━━━━━━━━━━\u001b[0m\u001b[37m\u001b[0m \u001b[1m1s\u001b[0m 9ms/step - loss: 0.7096 - val_loss: 0.6618\n",
      "Epoch 47/100\n",
      "\u001b[1m79/79\u001b[0m \u001b[32m━━━━━━━━━━━━━━━━━━━━\u001b[0m\u001b[37m\u001b[0m \u001b[1m1s\u001b[0m 9ms/step - loss: 0.6920 - val_loss: 0.6606\n",
      "Epoch 48/100\n",
      "\u001b[1m79/79\u001b[0m \u001b[32m━━━━━━━━━━━━━━━━━━━━\u001b[0m\u001b[37m\u001b[0m \u001b[1m1s\u001b[0m 9ms/step - loss: 0.7011 - val_loss: 0.6630\n",
      "Epoch 49/100\n",
      "\u001b[1m79/79\u001b[0m \u001b[32m━━━━━━━━━━━━━━━━━━━━\u001b[0m\u001b[37m\u001b[0m \u001b[1m1s\u001b[0m 9ms/step - loss: 0.6840 - val_loss: 0.6611\n",
      "Epoch 50/100\n",
      "\u001b[1m79/79\u001b[0m \u001b[32m━━━━━━━━━━━━━━━━━━━━\u001b[0m\u001b[37m\u001b[0m \u001b[1m1s\u001b[0m 9ms/step - loss: 0.6941 - val_loss: 0.6605\n",
      "Epoch 51/100\n",
      "\u001b[1m79/79\u001b[0m \u001b[32m━━━━━━━━━━━━━━━━━━━━\u001b[0m\u001b[37m\u001b[0m \u001b[1m1s\u001b[0m 9ms/step - loss: 0.6862 - val_loss: 0.6688\n",
      "Epoch 52/100\n",
      "\u001b[1m79/79\u001b[0m \u001b[32m━━━━━━━━━━━━━━━━━━━━\u001b[0m\u001b[37m\u001b[0m \u001b[1m1s\u001b[0m 9ms/step - loss: 0.6888 - val_loss: 0.6611\n",
      "Epoch 53/100\n",
      "\u001b[1m79/79\u001b[0m \u001b[32m━━━━━━━━━━━━━━━━━━━━\u001b[0m\u001b[37m\u001b[0m \u001b[1m1s\u001b[0m 9ms/step - loss: 0.6925 - val_loss: 0.6602\n",
      "Epoch 54/100\n",
      "\u001b[1m79/79\u001b[0m \u001b[32m━━━━━━━━━━━━━━━━━━━━\u001b[0m\u001b[37m\u001b[0m \u001b[1m1s\u001b[0m 9ms/step - loss: 0.7052 - val_loss: 0.6566\n",
      "Epoch 55/100\n",
      "\u001b[1m79/79\u001b[0m \u001b[32m━━━━━━━━━━━━━━━━━━━━\u001b[0m\u001b[37m\u001b[0m \u001b[1m1s\u001b[0m 9ms/step - loss: 0.6945 - val_loss: 0.6595\n",
      "Epoch 56/100\n",
      "\u001b[1m79/79\u001b[0m \u001b[32m━━━━━━━━━━━━━━━━━━━━\u001b[0m\u001b[37m\u001b[0m \u001b[1m1s\u001b[0m 9ms/step - loss: 0.6965 - val_loss: 0.6608\n",
      "Epoch 57/100\n",
      "\u001b[1m79/79\u001b[0m \u001b[32m━━━━━━━━━━━━━━━━━━━━\u001b[0m\u001b[37m\u001b[0m \u001b[1m1s\u001b[0m 9ms/step - loss: 0.7131 - val_loss: 0.6661\n",
      "Epoch 58/100\n",
      "\u001b[1m79/79\u001b[0m \u001b[32m━━━━━━━━━━━━━━━━━━━━\u001b[0m\u001b[37m\u001b[0m \u001b[1m1s\u001b[0m 8ms/step - loss: 0.6831 - val_loss: 0.6600\n",
      "Epoch 59/100\n",
      "\u001b[1m79/79\u001b[0m \u001b[32m━━━━━━━━━━━━━━━━━━━━\u001b[0m\u001b[37m\u001b[0m \u001b[1m1s\u001b[0m 8ms/step - loss: 0.6796 - val_loss: 0.6617\n",
      "Epoch 60/100\n",
      "\u001b[1m79/79\u001b[0m \u001b[32m━━━━━━━━━━━━━━━━━━━━\u001b[0m\u001b[37m\u001b[0m \u001b[1m1s\u001b[0m 9ms/step - loss: 0.6980 - val_loss: 0.6590\n",
      "Epoch 61/100\n",
      "\u001b[1m79/79\u001b[0m \u001b[32m━━━━━━━━━━━━━━━━━━━━\u001b[0m\u001b[37m\u001b[0m \u001b[1m1s\u001b[0m 9ms/step - loss: 0.6956 - val_loss: 0.6634\n",
      "Epoch 62/100\n",
      "\u001b[1m79/79\u001b[0m \u001b[32m━━━━━━━━━━━━━━━━━━━━\u001b[0m\u001b[37m\u001b[0m \u001b[1m1s\u001b[0m 9ms/step - loss: 0.6913 - val_loss: 0.6639\n",
      "Epoch 63/100\n",
      "\u001b[1m79/79\u001b[0m \u001b[32m━━━━━━━━━━━━━━━━━━━━\u001b[0m\u001b[37m\u001b[0m \u001b[1m1s\u001b[0m 9ms/step - loss: 0.6941 - val_loss: 0.6621\n",
      "Epoch 64/100\n",
      "\u001b[1m79/79\u001b[0m \u001b[32m━━━━━━━━━━━━━━━━━━━━\u001b[0m\u001b[37m\u001b[0m \u001b[1m1s\u001b[0m 9ms/step - loss: 0.6927 - val_loss: 0.6634\n",
      "Epoch 65/100\n",
      "\u001b[1m79/79\u001b[0m \u001b[32m━━━━━━━━━━━━━━━━━━━━\u001b[0m\u001b[37m\u001b[0m \u001b[1m1s\u001b[0m 9ms/step - loss: 0.6950 - val_loss: 0.6581\n",
      "Epoch 66/100\n",
      "\u001b[1m79/79\u001b[0m \u001b[32m━━━━━━━━━━━━━━━━━━━━\u001b[0m\u001b[37m\u001b[0m \u001b[1m1s\u001b[0m 9ms/step - loss: 0.6811 - val_loss: 0.6596\n",
      "Epoch 67/100\n",
      "\u001b[1m79/79\u001b[0m \u001b[32m━━━━━━━━━━━━━━━━━━━━\u001b[0m\u001b[37m\u001b[0m \u001b[1m1s\u001b[0m 9ms/step - loss: 0.7102 - val_loss: 0.6577\n",
      "Epoch 68/100\n",
      "\u001b[1m79/79\u001b[0m \u001b[32m━━━━━━━━━━━━━━━━━━━━\u001b[0m\u001b[37m\u001b[0m \u001b[1m1s\u001b[0m 9ms/step - loss: 0.6915 - val_loss: 0.6614\n",
      "Epoch 69/100\n",
      "\u001b[1m79/79\u001b[0m \u001b[32m━━━━━━━━━━━━━━━━━━━━\u001b[0m\u001b[37m\u001b[0m \u001b[1m1s\u001b[0m 9ms/step - loss: 0.7030 - val_loss: 0.6625\n",
      "Epoch 70/100\n",
      "\u001b[1m79/79\u001b[0m \u001b[32m━━━━━━━━━━━━━━━━━━━━\u001b[0m\u001b[37m\u001b[0m \u001b[1m1s\u001b[0m 8ms/step - loss: 0.6929 - val_loss: 0.6603\n",
      "Epoch 71/100\n",
      "\u001b[1m79/79\u001b[0m \u001b[32m━━━━━━━━━━━━━━━━━━━━\u001b[0m\u001b[37m\u001b[0m \u001b[1m1s\u001b[0m 9ms/step - loss: 0.6951 - val_loss: 0.6591\n",
      "Epoch 72/100\n",
      "\u001b[1m79/79\u001b[0m \u001b[32m━━━━━━━━━━━━━━━━━━━━\u001b[0m\u001b[37m\u001b[0m \u001b[1m1s\u001b[0m 9ms/step - loss: 0.7055 - val_loss: 0.6600\n",
      "Epoch 73/100\n",
      "\u001b[1m79/79\u001b[0m \u001b[32m━━━━━━━━━━━━━━━━━━━━\u001b[0m\u001b[37m\u001b[0m \u001b[1m1s\u001b[0m 9ms/step - loss: 0.6964 - val_loss: 0.6573\n",
      "Epoch 74/100\n",
      "\u001b[1m79/79\u001b[0m \u001b[32m━━━━━━━━━━━━━━━━━━━━\u001b[0m\u001b[37m\u001b[0m \u001b[1m1s\u001b[0m 10ms/step - loss: 0.6962 - val_loss: 0.6590\n",
      "Epoch 75/100\n",
      "\u001b[1m79/79\u001b[0m \u001b[32m━━━━━━━━━━━━━━━━━━━━\u001b[0m\u001b[37m\u001b[0m \u001b[1m1s\u001b[0m 9ms/step - loss: 0.6770 - val_loss: 0.6655\n",
      "Epoch 76/100\n",
      "\u001b[1m79/79\u001b[0m \u001b[32m━━━━━━━━━━━━━━━━━━━━\u001b[0m\u001b[37m\u001b[0m \u001b[1m1s\u001b[0m 9ms/step - loss: 0.6902 - val_loss: 0.6646\n",
      "Epoch 77/100\n",
      "\u001b[1m79/79\u001b[0m \u001b[32m━━━━━━━━━━━━━━━━━━━━\u001b[0m\u001b[37m\u001b[0m \u001b[1m1s\u001b[0m 9ms/step - loss: 0.6991 - val_loss: 0.6593\n",
      "Epoch 78/100\n",
      "\u001b[1m79/79\u001b[0m \u001b[32m━━━━━━━━━━━━━━━━━━━━\u001b[0m\u001b[37m\u001b[0m \u001b[1m1s\u001b[0m 9ms/step - loss: 0.6926 - val_loss: 0.6604\n",
      "Epoch 79/100\n",
      "\u001b[1m79/79\u001b[0m \u001b[32m━━━━━━━━━━━━━━━━━━━━\u001b[0m\u001b[37m\u001b[0m \u001b[1m1s\u001b[0m 9ms/step - loss: 0.7051 - val_loss: 0.6594\n",
      "Epoch 80/100\n",
      "\u001b[1m79/79\u001b[0m \u001b[32m━━━━━━━━━━━━━━━━━━━━\u001b[0m\u001b[37m\u001b[0m \u001b[1m1s\u001b[0m 9ms/step - loss: 0.6850 - val_loss: 0.6619\n",
      "Epoch 81/100\n",
      "\u001b[1m79/79\u001b[0m \u001b[32m━━━━━━━━━━━━━━━━━━━━\u001b[0m\u001b[37m\u001b[0m \u001b[1m1s\u001b[0m 9ms/step - loss: 0.6946 - val_loss: 0.6601\n",
      "Epoch 82/100\n",
      "\u001b[1m79/79\u001b[0m \u001b[32m━━━━━━━━━━━━━━━━━━━━\u001b[0m\u001b[37m\u001b[0m \u001b[1m1s\u001b[0m 9ms/step - loss: 0.6962 - val_loss: 0.6615\n",
      "Epoch 83/100\n",
      "\u001b[1m79/79\u001b[0m \u001b[32m━━━━━━━━━━━━━━━━━━━━\u001b[0m\u001b[37m\u001b[0m \u001b[1m1s\u001b[0m 9ms/step - loss: 0.6959 - val_loss: 0.6616\n",
      "Epoch 84/100\n",
      "\u001b[1m79/79\u001b[0m \u001b[32m━━━━━━━━━━━━━━━━━━━━\u001b[0m\u001b[37m\u001b[0m \u001b[1m1s\u001b[0m 9ms/step - loss: 0.6883 - val_loss: 0.6628\n",
      "Epoch 85/100\n",
      "\u001b[1m79/79\u001b[0m \u001b[32m━━━━━━━━━━━━━━━━━━━━\u001b[0m\u001b[37m\u001b[0m \u001b[1m1s\u001b[0m 9ms/step - loss: 0.7006 - val_loss: 0.6592\n",
      "Epoch 86/100\n",
      "\u001b[1m79/79\u001b[0m \u001b[32m━━━━━━━━━━━━━━━━━━━━\u001b[0m\u001b[37m\u001b[0m \u001b[1m1s\u001b[0m 9ms/step - loss: 0.6794 - val_loss: 0.6638\n",
      "Epoch 87/100\n",
      "\u001b[1m79/79\u001b[0m \u001b[32m━━━━━━━━━━━━━━━━━━━━\u001b[0m\u001b[37m\u001b[0m \u001b[1m1s\u001b[0m 9ms/step - loss: 0.6896 - val_loss: 0.6598\n",
      "Epoch 88/100\n",
      "\u001b[1m79/79\u001b[0m \u001b[32m━━━━━━━━━━━━━━━━━━━━\u001b[0m\u001b[37m\u001b[0m \u001b[1m1s\u001b[0m 9ms/step - loss: 0.6844 - val_loss: 0.6588\n",
      "Epoch 89/100\n",
      "\u001b[1m79/79\u001b[0m \u001b[32m━━━━━━━━━━━━━━━━━━━━\u001b[0m\u001b[37m\u001b[0m \u001b[1m1s\u001b[0m 9ms/step - loss: 0.6759 - val_loss: 0.6610\n",
      "Epoch 90/100\n",
      "\u001b[1m79/79\u001b[0m \u001b[32m━━━━━━━━━━━━━━━━━━━━\u001b[0m\u001b[37m\u001b[0m \u001b[1m1s\u001b[0m 9ms/step - loss: 0.6875 - val_loss: 0.6633\n",
      "Epoch 91/100\n",
      "\u001b[1m79/79\u001b[0m \u001b[32m━━━━━━━━━━━━━━━━━━━━\u001b[0m\u001b[37m\u001b[0m \u001b[1m1s\u001b[0m 9ms/step - loss: 0.7078 - val_loss: 0.6601\n",
      "Epoch 92/100\n",
      "\u001b[1m79/79\u001b[0m \u001b[32m━━━━━━━━━━━━━━━━━━━━\u001b[0m\u001b[37m\u001b[0m \u001b[1m1s\u001b[0m 8ms/step - loss: 0.6978 - val_loss: 0.6567\n",
      "Epoch 93/100\n",
      "\u001b[1m79/79\u001b[0m \u001b[32m━━━━━━━━━━━━━━━━━━━━\u001b[0m\u001b[37m\u001b[0m \u001b[1m1s\u001b[0m 9ms/step - loss: 0.6903 - val_loss: 0.6591\n",
      "Epoch 94/100\n",
      "\u001b[1m79/79\u001b[0m \u001b[32m━━━━━━━━━━━━━━━━━━━━\u001b[0m\u001b[37m\u001b[0m \u001b[1m1s\u001b[0m 9ms/step - loss: 0.6933 - val_loss: 0.6593\n",
      "Epoch 95/100\n",
      "\u001b[1m79/79\u001b[0m \u001b[32m━━━━━━━━━━━━━━━━━━━━\u001b[0m\u001b[37m\u001b[0m \u001b[1m1s\u001b[0m 8ms/step - loss: 0.7049 - val_loss: 0.6627\n",
      "Epoch 96/100\n",
      "\u001b[1m79/79\u001b[0m \u001b[32m━━━━━━━━━━━━━━━━━━━━\u001b[0m\u001b[37m\u001b[0m \u001b[1m1s\u001b[0m 8ms/step - loss: 0.6933 - val_loss: 0.6587\n",
      "Epoch 97/100\n",
      "\u001b[1m79/79\u001b[0m \u001b[32m━━━━━━━━━━━━━━━━━━━━\u001b[0m\u001b[37m\u001b[0m \u001b[1m1s\u001b[0m 8ms/step - loss: 0.6943 - val_loss: 0.6578\n",
      "Epoch 98/100\n",
      "\u001b[1m79/79\u001b[0m \u001b[32m━━━━━━━━━━━━━━━━━━━━\u001b[0m\u001b[37m\u001b[0m \u001b[1m1s\u001b[0m 9ms/step - loss: 0.7073 - val_loss: 0.6618\n",
      "Epoch 99/100\n",
      "\u001b[1m79/79\u001b[0m \u001b[32m━━━━━━━━━━━━━━━━━━━━\u001b[0m\u001b[37m\u001b[0m \u001b[1m1s\u001b[0m 9ms/step - loss: 0.7045 - val_loss: 0.6575\n",
      "Epoch 100/100\n",
      "\u001b[1m79/79\u001b[0m \u001b[32m━━━━━━━━━━━━━━━━━━━━\u001b[0m\u001b[37m\u001b[0m \u001b[1m1s\u001b[0m 9ms/step - loss: 0.7009 - val_loss: 0.6600\n"
     ]
    }
   ],
   "source": [
    "input_shape = X_train_scaled.shape[1]\n",
    "output_shape = y_train_scaled.shape[1]\n",
    "model = cnn(input_shape, output_shape)\n",
    "\n",
    "history = model.fit(X_train_scaled, y_train_scaled, \n",
    "                    epochs=100, batch_size=32,\n",
    "                    validation_data=(X_valid_scaled, y_valid_scaled),\n",
    "                    verbose=1)"
   ]
  },
  {
   "cell_type": "code",
   "execution_count": 7,
   "id": "8033611e",
   "metadata": {
    "execution": {
     "iopub.execute_input": "2024-11-01T14:05:37.141020Z",
     "iopub.status.busy": "2024-11-01T14:05:37.140559Z",
     "iopub.status.idle": "2024-11-01T14:05:37.546706Z",
     "shell.execute_reply": "2024-11-01T14:05:37.545262Z"
    },
    "papermill": {
     "duration": 0.503108,
     "end_time": "2024-11-01T14:05:37.549280",
     "exception": false,
     "start_time": "2024-11-01T14:05:37.046172",
     "status": "completed"
    },
    "tags": []
   },
   "outputs": [
    {
     "name": "stdout",
     "output_type": "stream",
     "text": [
      "\u001b[1m32/32\u001b[0m \u001b[32m━━━━━━━━━━━━━━━━━━━━\u001b[0m\u001b[37m\u001b[0m \u001b[1m0s\u001b[0m 5ms/step\n",
      "Mean Squared Error with FCNN: 143.59176014689112\n"
     ]
    }
   ],
   "source": [
    "y_pred_scaled = model.predict(X_valid_scaled)\n",
    "y_pred = scaler_y.inverse_transform(y_pred_scaled)\n",
    "mse = mean_squared_error(y_valid, y_pred)\n",
    "print(f'Mean Squared Error with FCNN: {mse}')"
   ]
  },
  {
   "cell_type": "code",
   "execution_count": 8,
   "id": "b7180ff8",
   "metadata": {
    "execution": {
     "iopub.execute_input": "2024-11-01T14:05:37.734914Z",
     "iopub.status.busy": "2024-11-01T14:05:37.734465Z",
     "iopub.status.idle": "2024-11-01T14:05:38.225833Z",
     "shell.execute_reply": "2024-11-01T14:05:38.224726Z"
    },
    "papermill": {
     "duration": 0.586624,
     "end_time": "2024-11-01T14:05:38.228553",
     "exception": false,
     "start_time": "2024-11-01T14:05:37.641929",
     "status": "completed"
    },
    "tags": []
   },
   "outputs": [
    {
     "name": "stdout",
     "output_type": "stream",
     "text": [
      "\u001b[1m4/4\u001b[0m \u001b[32m━━━━━━━━━━━━━━━━━━━━\u001b[0m\u001b[37m\u001b[0m \u001b[1m0s\u001b[0m 3ms/step \n"
     ]
    }
   ],
   "source": [
    "test_data = pd.read_csv('/kaggle/input/hot-n-cold/dataset/test/dataset_0.csv')\n",
    "X_test = test_data.iloc[:, 1:3].values\n",
    "X_test_scaled = scaler_X.transform(X_test)\n",
    "\n",
    "test_predictions_scaled = model.predict(X_test_scaled)\n",
    "test_predictions = scaler_y.inverse_transform(test_predictions_scaled)\n",
    "\n",
    "output = pd.DataFrame(test_predictions, columns=[f'val_{i}' for i in range(2550)])\n",
    "output.insert(0, 'ID', test_data.iloc[:, 0])\n",
    "output.insert(1, 'L', test_data.iloc[:, 1])\n",
    "output.insert(2, 'nx', test_data.iloc[:, 2])\n",
    "\n",
    "output.to_csv('submission.csv', index=False)"
   ]
  }
 ],
 "metadata": {
  "kaggle": {
   "accelerator": "none",
   "dataSources": [
    {
     "databundleVersionId": 10017337,
     "sourceId": 87786,
     "sourceType": "competition"
    }
   ],
   "dockerImageVersionId": 30786,
   "isGpuEnabled": false,
   "isInternetEnabled": false,
   "language": "python",
   "sourceType": "notebook"
  },
  "kernelspec": {
   "display_name": "Python 3",
   "language": "python",
   "name": "python3"
  },
  "language_info": {
   "codemirror_mode": {
    "name": "ipython",
    "version": 3
   },
   "file_extension": ".py",
   "mimetype": "text/x-python",
   "name": "python",
   "nbconvert_exporter": "python",
   "pygments_lexer": "ipython3",
   "version": "3.10.14"
  },
  "papermill": {
   "default_parameters": {},
   "duration": 106.577138,
   "end_time": "2024-11-01T14:05:40.046740",
   "environment_variables": {},
   "exception": null,
   "input_path": "__notebook__.ipynb",
   "output_path": "__notebook__.ipynb",
   "parameters": {},
   "start_time": "2024-11-01T14:03:53.469602",
   "version": "2.6.0"
  }
 },
 "nbformat": 4,
 "nbformat_minor": 5
}
